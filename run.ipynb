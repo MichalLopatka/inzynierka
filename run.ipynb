{
 "cells": [
  {
   "cell_type": "code",
   "execution_count": null,
   "id": "2655a363-69f9-46e2-bc49-87ef4851efa9",
   "metadata": {},
   "outputs": [],
   "source": [
    "import main as dan"
   ]
  },
  {
   "cell_type": "code",
   "execution_count": null,
   "id": "9e384b5c-2c89-44e0-b568-2a9d81f6128a",
   "metadata": {},
   "outputs": [],
   "source": [
    "detection = dan.DangerDetection(threshhold=0.75, jupyter=True)"
   ]
  },
  {
   "cell_type": "code",
   "execution_count": null,
   "id": "249472a7-e390-4931-866a-3b40a6094a0d",
   "metadata": {},
   "outputs": [],
   "source": [
    "detection.dangerStatic(25, show_numbers=True)"
   ]
  },
  {
   "cell_type": "code",
   "execution_count": null,
   "id": "1e4ece8c-862d-46ce-9012-197c32a7553a",
   "metadata": {},
   "outputs": [],
   "source": [
    "detection.dangerSequence(show_numbers=False, folder=\"own/clips/VID_20211008_173852\", start=0, stop=20)"
   ]
  },
  {
   "cell_type": "code",
   "execution_count": null,
   "id": "461ca065-cec4-47bc-b2d7-218047c61b49",
   "metadata": {},
   "outputs": [],
   "source": [
    "dan.movie_to_frames()"
   ]
  },
  {
   "cell_type": "code",
   "execution_count": null,
   "id": "63993e4f-399f-4ac5-830a-ab7e61ecdb3e",
   "metadata": {},
   "outputs": [],
   "source": [
    "detection.detection()"
   ]
  }
 ],
 "metadata": {
  "kernelspec": {
   "display_name": "Python 3 (ipykernel)",
   "language": "python",
   "name": "python3"
  },
  "language_info": {
   "codemirror_mode": {
    "name": "ipython",
    "version": 3
   },
   "file_extension": ".py",
   "mimetype": "text/x-python",
   "name": "python",
   "nbconvert_exporter": "python",
   "pygments_lexer": "ipython3",
   "version": "3.9.2"
  }
 },
 "nbformat": 4,
 "nbformat_minor": 5
}
